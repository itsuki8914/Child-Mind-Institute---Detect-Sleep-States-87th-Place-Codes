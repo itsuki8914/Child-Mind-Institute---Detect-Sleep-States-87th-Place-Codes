{
 "cells": [
  {
   "cell_type": "code",
   "execution_count": 1,
   "id": "f083d17d",
   "metadata": {
    "execution": {
     "iopub.execute_input": "2023-10-22T05:14:42.644604Z",
     "iopub.status.busy": "2023-10-22T05:14:42.644060Z",
     "iopub.status.idle": "2023-10-22T05:14:51.142002Z",
     "shell.execute_reply": "2023-10-22T05:14:51.140654Z"
    },
    "papermill": {
     "duration": 8.507702,
     "end_time": "2023-10-22T05:14:51.145079",
     "exception": false,
     "start_time": "2023-10-22T05:14:42.637377",
     "status": "completed"
    },
    "tags": []
   },
   "outputs": [],
   "source": [
    "import pandas as pd\n",
    "import numpy as np\n",
    "import gc\n",
    "import time\n",
    "import json\n",
    "from datetime import datetime\n",
    "import matplotlib.pyplot as plt\n",
    "import os\n",
    "import joblib\n",
    "import random\n",
    "import math\n",
    "from tqdm.auto import tqdm \n",
    "\n",
    "from scipy.interpolate import interp1d\n",
    "\n",
    "from math import pi, sqrt, exp\n",
    "import sklearn,sklearn.model_selection\n",
    "import torch\n",
    "from torch import nn,Tensor\n",
    "import torch.nn.functional as F\n",
    "from torch.utils.data import DataLoader, Dataset, SubsetRandomSampler\n",
    "from sklearn.metrics import average_precision_score\n",
    "from timm.scheduler import CosineLRScheduler\n",
    "plt.style.use(\"ggplot\")\n",
    "\n",
    "from pyarrow.parquet import ParquetFile\n",
    "import pyarrow as pa \n",
    "import ctypes"
   ]
  },
  {
   "cell_type": "code",
   "execution_count": 2,
   "id": "a67e5279",
   "metadata": {
    "execution": {
     "iopub.execute_input": "2023-10-22T05:14:51.157758Z",
     "iopub.status.busy": "2023-10-22T05:14:51.157339Z",
     "iopub.status.idle": "2023-10-22T05:14:51.163137Z",
     "shell.execute_reply": "2023-10-22T05:14:51.161844Z"
    },
    "papermill": {
     "duration": 0.015063,
     "end_time": "2023-10-22T05:14:51.165791",
     "exception": false,
     "start_time": "2023-10-22T05:14:51.150728",
     "status": "completed"
    },
    "tags": []
   },
   "outputs": [],
   "source": [
    "class PATHS:\n",
    "    MAIN_DIR = \"child-mind-institute-detect-sleep-states/\"\n",
    "    # CSV FILES : \n",
    "    SUBMISSION = MAIN_DIR + \"sample_submission.csv\"\n",
    "    TRAIN_EVENTS = MAIN_DIR + \"train_events.csv\"\n",
    "    # PARQUET FILES:\n",
    "    TRAIN_SERIES = MAIN_DIR + \"train_series.parquet\"\n",
    "    TEST_SERIES = MAIN_DIR + \"test_series.parquet\""
   ]
  },
  {
   "cell_type": "code",
   "execution_count": 3,
   "id": "2e924672",
   "metadata": {
    "execution": {
     "iopub.execute_input": "2023-10-22T05:14:51.178745Z",
     "iopub.status.busy": "2023-10-22T05:14:51.178280Z",
     "iopub.status.idle": "2023-10-22T05:14:51.184563Z",
     "shell.execute_reply": "2023-10-22T05:14:51.183242Z"
    },
    "papermill": {
     "duration": 0.016079,
     "end_time": "2023-10-22T05:14:51.187480",
     "exception": false,
     "start_time": "2023-10-22T05:14:51.171401",
     "status": "completed"
    },
    "tags": []
   },
   "outputs": [],
   "source": [
    "out_dir = 'train_csvs'\n",
    "os.makedirs(out_dir, exist_ok=True)"
   ]
  },
  {
   "cell_type": "code",
   "execution_count": 4,
   "id": "6be39a72",
   "metadata": {
    "execution": {
     "iopub.execute_input": "2023-10-22T05:14:51.201154Z",
     "iopub.status.busy": "2023-10-22T05:14:51.200247Z",
     "iopub.status.idle": "2023-10-22T05:14:51.227151Z",
     "shell.execute_reply": "2023-10-22T05:14:51.225879Z"
    },
    "papermill": {
     "duration": 0.037333,
     "end_time": "2023-10-22T05:14:51.230103",
     "exception": false,
     "start_time": "2023-10-22T05:14:51.192770",
     "status": "completed"
    },
    "tags": []
   },
   "outputs": [],
   "source": [
    "class data_reader:\n",
    "    def __init__(self, demo_mode):\n",
    "        super().__init__()\n",
    "        # MAPPING FOR DATA LOADING :\n",
    "        self.names_mapping = {\n",
    "            \"submission\" : {\"path\" : PATHS.SUBMISSION, \"is_parquet\" : False, \"has_timestamp\" : False}, \n",
    "            \"train_events\" : {\"path\" : PATHS.TRAIN_EVENTS, \"is_parquet\" : False, \"has_timestamp\" : True},\n",
    "            \"train_series\" : {\"path\" : PATHS.TRAIN_SERIES, \"is_parquet\" : True, \"has_timestamp\" : True},\n",
    "            \"test_series\" : {\"path\" : PATHS.TEST_SERIES, \"is_parquet\" : True, \"has_timestamp\" : True}\n",
    "        }\n",
    "        self.valid_names = [\"submission\", \"train_events\", \"train_series\", \"test_series\"]\n",
    "        self.demo_mode = demo_mode\n",
    "    \n",
    "    def verify(self, data_name):\n",
    "        \"function for data name verification\"\n",
    "        if data_name not in self.valid_names:\n",
    "            print(\"PLEASE ENTER A VALID DATASET NAME, VALID NAMES ARE : \", valid_names)\n",
    "        return\n",
    "    \n",
    "    def cleaning(self, data):\n",
    "        \"cleaning function : drop na values\"\n",
    "        before_cleaning = len(data)\n",
    "        print(\"Number of missing timestamps : \", len(data[data[\"timestamp\"].isna()]))\n",
    "        data = data.dropna(subset=[\"timestamp\"])\n",
    "        after_cleaning = len(data)\n",
    "        print(\"Percentage of removed steps : {:.1f}%\".format(100 * (before_cleaning - after_cleaning) / before_cleaning) )\n",
    "#         print(data.isna().any())\n",
    "#         data = data.bfill()\n",
    "        return data\n",
    "    \n",
    "    @staticmethod\n",
    "    def reduce_memory_usage(data):\n",
    "        \"iterate through all the columns of a dataframe and modify the data type to reduce memory usage.\"\n",
    "        start_mem = data.memory_usage().sum() / 1024**2\n",
    "        print('Memory usage of dataframe is {:.2f} MB'.format(start_mem))\n",
    "        for col in data.columns:\n",
    "            col_type = data[col].dtype    \n",
    "            if col_type != object:\n",
    "                c_min = data[col].min()\n",
    "                c_max = data[col].max()\n",
    "                if str(col_type)[:3] == 'int':\n",
    "                    if c_min > np.iinfo(np.int8).min and c_max < np.iinfo(np.int8).max:\n",
    "                        data[col] = data[col].astype(np.int8)\n",
    "                    elif c_min > np.iinfo(np.int16).min and c_max < np.iinfo(np.int16).max:\n",
    "                        data[col] = data[col].astype(np.int16)\n",
    "                    elif c_min > np.iinfo(np.int32).min and c_max < np.iinfo(np.int32).max:\n",
    "                        data[col] = data[col].astype(np.int32)\n",
    "                    elif c_min > np.iinfo(np.int64).min and c_max < np.iinfo(np.int64).max:\n",
    "                        data[col] = data[col].astype(np.int64)  \n",
    "                else:\n",
    "                    if c_min > np.finfo(np.float16).min and c_max < np.finfo(np.float16).max:\n",
    "                        data[col] = data[col].astype(np.float16)\n",
    "                    elif c_min > np.finfo(np.float32).min and c_max < np.finfo(np.float32).max:\n",
    "                        data[col] = data[col].astype(np.float32)\n",
    "                    else:\n",
    "                        data[col] = data[col].astype(np.float64)\n",
    "            else:\n",
    "                data[col] = data[col].astype('category')\n",
    "\n",
    "        end_mem = data.memory_usage().sum() / 1024**2\n",
    "        print('Memory usage after optimization is: {:.2f} MB'.format(end_mem))\n",
    "        print('Decreased by {:.1f}%'.format(100 * (start_mem - end_mem) / start_mem))\n",
    "        return data\n",
    "    \n",
    "    def load_data(self, data_name):\n",
    "        \"function for data loading\"\n",
    "        self.verify(data_name)\n",
    "        data_props = self.names_mapping[data_name]\n",
    "        if data_props[\"is_parquet\"]:\n",
    "            if self.demo_mode:\n",
    "                pf = ParquetFile(data_props[\"path\"]) \n",
    "                demo_steps = next(pf.iter_batches(batch_size=20_000)) \n",
    "                data = pa.Table.from_batches([demo_steps]).to_pandas()\n",
    "            else:\n",
    "                data = pd.read_parquet(data_props[\"path\"])\n",
    "        else:\n",
    "            if self.demo_mode:\n",
    "                data = pd.read_csv(data_props[\"path\"], nsteps=20_000)\n",
    "            else:\n",
    "                data = pd.read_csv(data_props[\"path\"])\n",
    "                \n",
    "        gc.collect()\n",
    "        if data_props[\"has_timestamp\"]:\n",
    "            print('cleaning')\n",
    "            data = self.cleaning(data)\n",
    "            gc.collect()\n",
    "        #data = self.reduce_memory_usage(data)\n",
    "        return data"
   ]
  },
  {
   "cell_type": "code",
   "execution_count": 5,
   "id": "2cb160ce",
   "metadata": {
    "execution": {
     "iopub.execute_input": "2023-10-22T05:14:51.242643Z",
     "iopub.status.busy": "2023-10-22T05:14:51.241707Z",
     "iopub.status.idle": "2023-10-22T05:16:28.815952Z",
     "shell.execute_reply": "2023-10-22T05:16:28.814370Z"
    },
    "papermill": {
     "duration": 97.583688,
     "end_time": "2023-10-22T05:16:28.818777",
     "exception": false,
     "start_time": "2023-10-22T05:14:51.235089",
     "status": "completed"
    },
    "tags": []
   },
   "outputs": [
    {
     "name": "stdout",
     "output_type": "stream",
     "text": [
      "cleaning\n",
      "Number of missing timestamps :  0\n",
      "Percentage of removed steps : 0.0%\n",
      "cleaning\n",
      "Number of missing timestamps :  4923\n",
      "Percentage of removed steps : 33.9%\n"
     ]
    }
   ],
   "source": [
    "reader = data_reader(demo_mode=False)\n",
    "series = reader.load_data(data_name=\"train_series\")\n",
    "events = reader.load_data(data_name=\"train_events\")"
   ]
  },
  {
   "cell_type": "code",
   "execution_count": 6,
   "id": "475b286f",
   "metadata": {
    "execution": {
     "iopub.execute_input": "2023-10-22T05:16:28.832140Z",
     "iopub.status.busy": "2023-10-22T05:16:28.831672Z",
     "iopub.status.idle": "2023-10-22T05:16:28.839783Z",
     "shell.execute_reply": "2023-10-22T05:16:28.838254Z"
    },
    "papermill": {
     "duration": 0.018464,
     "end_time": "2023-10-22T05:16:28.843060",
     "exception": false,
     "start_time": "2023-10-22T05:16:28.824596",
     "status": "completed"
    },
    "tags": []
   },
   "outputs": [],
   "source": [
    "SIGMA = 720 # 12 * 60\n",
    "def gauss(n=SIGMA,sigma=SIGMA*0.15):\n",
    "    # guassian distribution function\n",
    "    r = range(-int(n/2),int(n/2)+1)\n",
    "    return [1 / (sigma * sqrt(2*pi)) * exp(-float(x)**2/(2*sigma**2)) for x in r]"
   ]
  },
  {
   "cell_type": "code",
   "execution_count": 7,
   "id": "be1b6a0c",
   "metadata": {
    "execution": {
     "iopub.execute_input": "2023-10-22T05:16:28.855879Z",
     "iopub.status.busy": "2023-10-22T05:16:28.855416Z",
     "iopub.status.idle": "2023-10-22T08:24:27.352590Z",
     "shell.execute_reply": "2023-10-22T08:24:27.350943Z"
    },
    "papermill": {
     "duration": 11278.515207,
     "end_time": "2023-10-22T08:24:27.363706",
     "exception": false,
     "start_time": "2023-10-22T05:16:28.848499",
     "status": "completed"
    },
    "tags": []
   },
   "outputs": [
    {
     "data": {
      "application/vnd.jupyter.widget-view+json": {
       "model_id": "c35ed8c52e414c3cae69a5cb5ac0b107",
       "version_major": 2,
       "version_minor": 0
      },
      "text/plain": [
       "  0%|          | 0/277 [00:00<?, ?it/s]"
      ]
     },
     "metadata": {},
     "output_type": "display_data"
    }
   ],
   "source": [
    "targets = []\n",
    "data = []\n",
    "ids = series.series_id.unique()\n",
    "\n",
    "enmo_dfs = pd.DataFrame()\n",
    "\n",
    "for j, viz_id in tqdm(enumerate(ids), total=len(ids)):\n",
    "    viz_targets = []\n",
    "    viz_events = events[events.series_id == viz_id]\n",
    "    viz_series = series.loc[(series.series_id==viz_id)].copy().reset_index()\n",
    "    viz_series['dt'] = pd.to_datetime(viz_series.timestamp,format = '%Y-%m-%dT%H:%M:%S%z').astype(\"datetime64[ns, UTC-04:00]\")\n",
    "    viz_series['hour'] = viz_series['dt'].dt.hour\n",
    "\n",
    "    check = 0\n",
    "    for i in range(len(viz_events)-1):\n",
    "        if viz_events.iloc[i].event =='onset' and viz_events.iloc[i+1].event =='wakeup' and viz_events.iloc[i].night==viz_events.iloc[i+1].night:\n",
    "            start,end = viz_events.timestamp.iloc[i],viz_events.timestamp.iloc[i+1]\n",
    "\n",
    "            start_id = viz_series.loc[viz_series.timestamp ==start].index.values[0]\n",
    "            end_id = viz_series.loc[viz_series.timestamp ==end].index.values[0]\n",
    "            viz_targets.append((start_id,end_id))\n",
    "            check+=1\n",
    "\n",
    "    target_guassian = np.zeros((len(viz_series),2))\n",
    "\n",
    "    for s,e in viz_targets:\n",
    "        st1,st2 = max(0,s-SIGMA//2),s+SIGMA//2+1\n",
    "        ed1,ed2 = e-SIGMA//2,min(len(viz_series),e+SIGMA//2+1)\n",
    "        target_guassian[st1:st2,0] = gauss()[st1-(s-SIGMA//2):]\n",
    "        target_guassian[ed1:ed2,1] = gauss()[:SIGMA+1-((e+SIGMA//2+1)-ed2)]\n",
    "\n",
    "    target_guassian /= np.max(target_guassian + 1e-12)\n",
    "\n",
    "    viz_series['onset'] = target_guassian[:,0]\n",
    "    viz_series['wakeup'] = target_guassian[:,1]\n",
    "\n",
    "    new_df = viz_series[['step', 'anglez', 'enmo', 'hour', 'onset', 'wakeup']]\n",
    "    new_df.to_csv(f'{out_dir}/{viz_id}.csv', index=False)\n",
    "\n",
    "    enmo_dfs = pd.concat([enmo_dfs, new_df] ,axis=0)"
   ]
  },
  {
   "cell_type": "code",
   "execution_count": 8,
   "id": "2fe09565",
   "metadata": {
    "execution": {
     "iopub.execute_input": "2023-10-22T08:24:27.382306Z",
     "iopub.status.busy": "2023-10-22T08:24:27.381829Z",
     "iopub.status.idle": "2023-10-22T08:24:31.340151Z",
     "shell.execute_reply": "2023-10-22T08:24:31.338907Z"
    },
    "papermill": {
     "duration": 3.974604,
     "end_time": "2023-10-22T08:24:31.346990",
     "exception": false,
     "start_time": "2023-10-22T08:24:27.372386",
     "status": "completed"
    },
    "tags": []
   },
   "outputs": [
    {
     "data": {
      "text/html": [
       "<div>\n",
       "<style scoped>\n",
       "    .dataframe tbody tr th:only-of-type {\n",
       "        vertical-align: middle;\n",
       "    }\n",
       "\n",
       "    .dataframe tbody tr th {\n",
       "        vertical-align: top;\n",
       "    }\n",
       "\n",
       "    .dataframe thead th {\n",
       "        text-align: right;\n",
       "    }\n",
       "</style>\n",
       "<table border=\"1\" class=\"dataframe\">\n",
       "  <thead>\n",
       "    <tr style=\"text-align: right;\">\n",
       "      <th></th>\n",
       "      <th>index</th>\n",
       "      <th>step</th>\n",
       "      <th>anglez</th>\n",
       "      <th>enmo</th>\n",
       "      <th>hour</th>\n",
       "      <th>onset</th>\n",
       "      <th>wakeup</th>\n",
       "    </tr>\n",
       "  </thead>\n",
       "  <tbody>\n",
       "    <tr>\n",
       "      <th>0</th>\n",
       "      <td>0</td>\n",
       "      <td>0</td>\n",
       "      <td>2.6367</td>\n",
       "      <td>0.0217</td>\n",
       "      <td>15</td>\n",
       "      <td>0.0</td>\n",
       "      <td>0.0</td>\n",
       "    </tr>\n",
       "    <tr>\n",
       "      <th>1</th>\n",
       "      <td>1</td>\n",
       "      <td>1</td>\n",
       "      <td>2.6368</td>\n",
       "      <td>0.0215</td>\n",
       "      <td>15</td>\n",
       "      <td>0.0</td>\n",
       "      <td>0.0</td>\n",
       "    </tr>\n",
       "    <tr>\n",
       "      <th>2</th>\n",
       "      <td>2</td>\n",
       "      <td>2</td>\n",
       "      <td>2.6370</td>\n",
       "      <td>0.0216</td>\n",
       "      <td>15</td>\n",
       "      <td>0.0</td>\n",
       "      <td>0.0</td>\n",
       "    </tr>\n",
       "    <tr>\n",
       "      <th>3</th>\n",
       "      <td>3</td>\n",
       "      <td>3</td>\n",
       "      <td>2.6368</td>\n",
       "      <td>0.0213</td>\n",
       "      <td>15</td>\n",
       "      <td>0.0</td>\n",
       "      <td>0.0</td>\n",
       "    </tr>\n",
       "    <tr>\n",
       "      <th>4</th>\n",
       "      <td>4</td>\n",
       "      <td>4</td>\n",
       "      <td>2.6368</td>\n",
       "      <td>0.0215</td>\n",
       "      <td>15</td>\n",
       "      <td>0.0</td>\n",
       "      <td>0.0</td>\n",
       "    </tr>\n",
       "  </tbody>\n",
       "</table>\n",
       "</div>"
      ],
      "text/plain": [
       "   index  step  anglez    enmo  hour  onset  wakeup\n",
       "0      0     0  2.6367  0.0217    15    0.0     0.0\n",
       "1      1     1  2.6368  0.0215    15    0.0     0.0\n",
       "2      2     2  2.6370  0.0216    15    0.0     0.0\n",
       "3      3     3  2.6368  0.0213    15    0.0     0.0\n",
       "4      4     4  2.6368  0.0215    15    0.0     0.0"
      ]
     },
     "execution_count": 8,
     "metadata": {},
     "output_type": "execute_result"
    }
   ],
   "source": [
    "enmo_dfs = enmo_dfs.reset_index()\n",
    "enmo_dfs.head()"
   ]
  },
  {
   "cell_type": "code",
   "execution_count": 9,
   "id": "5776fb7c",
   "metadata": {
    "execution": {
     "iopub.execute_input": "2023-10-22T08:24:31.361090Z",
     "iopub.status.busy": "2023-10-22T08:24:31.360666Z",
     "iopub.status.idle": "2023-10-22T08:24:32.528120Z",
     "shell.execute_reply": "2023-10-22T08:24:32.526524Z"
    },
    "papermill": {
     "duration": 1.178273,
     "end_time": "2023-10-22T08:24:32.531260",
     "exception": false,
     "start_time": "2023-10-22T08:24:31.352987",
     "status": "completed"
    },
    "tags": []
   },
   "outputs": [
    {
     "name": "stdout",
     "output_type": "stream",
     "text": [
      "mean:0.041315, std:0.101829\n"
     ]
    }
   ],
   "source": [
    "enmo_mean = enmo_dfs['enmo'].mean()\n",
    "np.save('enmo_mean.npy', enmo_mean)\n",
    "enmo_std = enmo_dfs['enmo'].std()\n",
    "np.save('enmo_std.npy', enmo_std)\n",
    "print(f'mean:{enmo_mean:.6f}, std:{enmo_std:.6f}')"
   ]
  }
 ],
 "metadata": {
  "kernelspec": {
   "display_name": "Python 3 (ipykernel)",
   "language": "python",
   "name": "python3"
  },
  "language_info": {
   "codemirror_mode": {
    "name": "ipython",
    "version": 3
   },
   "file_extension": ".py",
   "mimetype": "text/x-python",
   "name": "python",
   "nbconvert_exporter": "python",
   "pygments_lexer": "ipython3",
   "version": "3.10.12"
  },
  "papermill": {
   "default_parameters": {},
   "duration": 11397.71092,
   "end_time": "2023-10-22T08:24:35.536354",
   "environment_variables": {},
   "exception": null,
   "input_path": "__notebook__.ipynb",
   "output_path": "__notebook__.ipynb",
   "parameters": {},
   "start_time": "2023-10-22T05:14:37.825434",
   "version": "2.4.0"
  },
  "widgets": {
   "application/vnd.jupyter.widget-state+json": {
    "state": {
     "1ac1bd4cc4104c10907ceb909d00aaa0": {
      "model_module": "@jupyter-widgets/controls",
      "model_module_version": "1.5.0",
      "model_name": "HTMLModel",
      "state": {
       "_dom_classes": [],
       "_model_module": "@jupyter-widgets/controls",
       "_model_module_version": "1.5.0",
       "_model_name": "HTMLModel",
       "_view_count": null,
       "_view_module": "@jupyter-widgets/controls",
       "_view_module_version": "1.5.0",
       "_view_name": "HTMLView",
       "description": "",
       "description_tooltip": null,
       "layout": "IPY_MODEL_79a1fe35d2fd42308c3cc2403a7cba4f",
       "placeholder": "​",
       "style": "IPY_MODEL_a62788f659d543dc94472bed8ada9eeb",
       "value": " 277/277 [3:07:46&lt;00:00, 46.18s/it]"
      }
     },
     "2d772a5bf8eb4a51a2f72504a6606278": {
      "model_module": "@jupyter-widgets/base",
      "model_module_version": "1.2.0",
      "model_name": "LayoutModel",
      "state": {
       "_model_module": "@jupyter-widgets/base",
       "_model_module_version": "1.2.0",
       "_model_name": "LayoutModel",
       "_view_count": null,
       "_view_module": "@jupyter-widgets/base",
       "_view_module_version": "1.2.0",
       "_view_name": "LayoutView",
       "align_content": null,
       "align_items": null,
       "align_self": null,
       "border": null,
       "bottom": null,
       "display": null,
       "flex": null,
       "flex_flow": null,
       "grid_area": null,
       "grid_auto_columns": null,
       "grid_auto_flow": null,
       "grid_auto_rows": null,
       "grid_column": null,
       "grid_gap": null,
       "grid_row": null,
       "grid_template_areas": null,
       "grid_template_columns": null,
       "grid_template_rows": null,
       "height": null,
       "justify_content": null,
       "justify_items": null,
       "left": null,
       "margin": null,
       "max_height": null,
       "max_width": null,
       "min_height": null,
       "min_width": null,
       "object_fit": null,
       "object_position": null,
       "order": null,
       "overflow": null,
       "overflow_x": null,
       "overflow_y": null,
       "padding": null,
       "right": null,
       "top": null,
       "visibility": null,
       "width": null
      }
     },
     "47a11589bb1d4ca2b2307c2f2c4325bf": {
      "model_module": "@jupyter-widgets/base",
      "model_module_version": "1.2.0",
      "model_name": "LayoutModel",
      "state": {
       "_model_module": "@jupyter-widgets/base",
       "_model_module_version": "1.2.0",
       "_model_name": "LayoutModel",
       "_view_count": null,
       "_view_module": "@jupyter-widgets/base",
       "_view_module_version": "1.2.0",
       "_view_name": "LayoutView",
       "align_content": null,
       "align_items": null,
       "align_self": null,
       "border": null,
       "bottom": null,
       "display": null,
       "flex": null,
       "flex_flow": null,
       "grid_area": null,
       "grid_auto_columns": null,
       "grid_auto_flow": null,
       "grid_auto_rows": null,
       "grid_column": null,
       "grid_gap": null,
       "grid_row": null,
       "grid_template_areas": null,
       "grid_template_columns": null,
       "grid_template_rows": null,
       "height": null,
       "justify_content": null,
       "justify_items": null,
       "left": null,
       "margin": null,
       "max_height": null,
       "max_width": null,
       "min_height": null,
       "min_width": null,
       "object_fit": null,
       "object_position": null,
       "order": null,
       "overflow": null,
       "overflow_x": null,
       "overflow_y": null,
       "padding": null,
       "right": null,
       "top": null,
       "visibility": null,
       "width": null
      }
     },
     "79309ed11ca44009bb7d1e1a2097c350": {
      "model_module": "@jupyter-widgets/controls",
      "model_module_version": "1.5.0",
      "model_name": "HTMLModel",
      "state": {
       "_dom_classes": [],
       "_model_module": "@jupyter-widgets/controls",
       "_model_module_version": "1.5.0",
       "_model_name": "HTMLModel",
       "_view_count": null,
       "_view_module": "@jupyter-widgets/controls",
       "_view_module_version": "1.5.0",
       "_view_name": "HTMLView",
       "description": "",
       "description_tooltip": null,
       "layout": "IPY_MODEL_7965dbda35b04428a1351724b047ad17",
       "placeholder": "​",
       "style": "IPY_MODEL_a05701dd62da4191a0b998dafabd7e8c",
       "value": "100%"
      }
     },
     "7965dbda35b04428a1351724b047ad17": {
      "model_module": "@jupyter-widgets/base",
      "model_module_version": "1.2.0",
      "model_name": "LayoutModel",
      "state": {
       "_model_module": "@jupyter-widgets/base",
       "_model_module_version": "1.2.0",
       "_model_name": "LayoutModel",
       "_view_count": null,
       "_view_module": "@jupyter-widgets/base",
       "_view_module_version": "1.2.0",
       "_view_name": "LayoutView",
       "align_content": null,
       "align_items": null,
       "align_self": null,
       "border": null,
       "bottom": null,
       "display": null,
       "flex": null,
       "flex_flow": null,
       "grid_area": null,
       "grid_auto_columns": null,
       "grid_auto_flow": null,
       "grid_auto_rows": null,
       "grid_column": null,
       "grid_gap": null,
       "grid_row": null,
       "grid_template_areas": null,
       "grid_template_columns": null,
       "grid_template_rows": null,
       "height": null,
       "justify_content": null,
       "justify_items": null,
       "left": null,
       "margin": null,
       "max_height": null,
       "max_width": null,
       "min_height": null,
       "min_width": null,
       "object_fit": null,
       "object_position": null,
       "order": null,
       "overflow": null,
       "overflow_x": null,
       "overflow_y": null,
       "padding": null,
       "right": null,
       "top": null,
       "visibility": null,
       "width": null
      }
     },
     "79a1fe35d2fd42308c3cc2403a7cba4f": {
      "model_module": "@jupyter-widgets/base",
      "model_module_version": "1.2.0",
      "model_name": "LayoutModel",
      "state": {
       "_model_module": "@jupyter-widgets/base",
       "_model_module_version": "1.2.0",
       "_model_name": "LayoutModel",
       "_view_count": null,
       "_view_module": "@jupyter-widgets/base",
       "_view_module_version": "1.2.0",
       "_view_name": "LayoutView",
       "align_content": null,
       "align_items": null,
       "align_self": null,
       "border": null,
       "bottom": null,
       "display": null,
       "flex": null,
       "flex_flow": null,
       "grid_area": null,
       "grid_auto_columns": null,
       "grid_auto_flow": null,
       "grid_auto_rows": null,
       "grid_column": null,
       "grid_gap": null,
       "grid_row": null,
       "grid_template_areas": null,
       "grid_template_columns": null,
       "grid_template_rows": null,
       "height": null,
       "justify_content": null,
       "justify_items": null,
       "left": null,
       "margin": null,
       "max_height": null,
       "max_width": null,
       "min_height": null,
       "min_width": null,
       "object_fit": null,
       "object_position": null,
       "order": null,
       "overflow": null,
       "overflow_x": null,
       "overflow_y": null,
       "padding": null,
       "right": null,
       "top": null,
       "visibility": null,
       "width": null
      }
     },
     "a05701dd62da4191a0b998dafabd7e8c": {
      "model_module": "@jupyter-widgets/controls",
      "model_module_version": "1.5.0",
      "model_name": "DescriptionStyleModel",
      "state": {
       "_model_module": "@jupyter-widgets/controls",
       "_model_module_version": "1.5.0",
       "_model_name": "DescriptionStyleModel",
       "_view_count": null,
       "_view_module": "@jupyter-widgets/base",
       "_view_module_version": "1.2.0",
       "_view_name": "StyleView",
       "description_width": ""
      }
     },
     "a62788f659d543dc94472bed8ada9eeb": {
      "model_module": "@jupyter-widgets/controls",
      "model_module_version": "1.5.0",
      "model_name": "DescriptionStyleModel",
      "state": {
       "_model_module": "@jupyter-widgets/controls",
       "_model_module_version": "1.5.0",
       "_model_name": "DescriptionStyleModel",
       "_view_count": null,
       "_view_module": "@jupyter-widgets/base",
       "_view_module_version": "1.2.0",
       "_view_name": "StyleView",
       "description_width": ""
      }
     },
     "c35ed8c52e414c3cae69a5cb5ac0b107": {
      "model_module": "@jupyter-widgets/controls",
      "model_module_version": "1.5.0",
      "model_name": "HBoxModel",
      "state": {
       "_dom_classes": [],
       "_model_module": "@jupyter-widgets/controls",
       "_model_module_version": "1.5.0",
       "_model_name": "HBoxModel",
       "_view_count": null,
       "_view_module": "@jupyter-widgets/controls",
       "_view_module_version": "1.5.0",
       "_view_name": "HBoxView",
       "box_style": "",
       "children": [
        "IPY_MODEL_79309ed11ca44009bb7d1e1a2097c350",
        "IPY_MODEL_c3b6ac7c7b374924b032170c41dfb807",
        "IPY_MODEL_1ac1bd4cc4104c10907ceb909d00aaa0"
       ],
       "layout": "IPY_MODEL_2d772a5bf8eb4a51a2f72504a6606278"
      }
     },
     "c3b6ac7c7b374924b032170c41dfb807": {
      "model_module": "@jupyter-widgets/controls",
      "model_module_version": "1.5.0",
      "model_name": "FloatProgressModel",
      "state": {
       "_dom_classes": [],
       "_model_module": "@jupyter-widgets/controls",
       "_model_module_version": "1.5.0",
       "_model_name": "FloatProgressModel",
       "_view_count": null,
       "_view_module": "@jupyter-widgets/controls",
       "_view_module_version": "1.5.0",
       "_view_name": "ProgressView",
       "bar_style": "success",
       "description": "",
       "description_tooltip": null,
       "layout": "IPY_MODEL_47a11589bb1d4ca2b2307c2f2c4325bf",
       "max": 277,
       "min": 0,
       "orientation": "horizontal",
       "style": "IPY_MODEL_c95209bf1b474b8bb521688f675ff52c",
       "value": 277
      }
     },
     "c95209bf1b474b8bb521688f675ff52c": {
      "model_module": "@jupyter-widgets/controls",
      "model_module_version": "1.5.0",
      "model_name": "ProgressStyleModel",
      "state": {
       "_model_module": "@jupyter-widgets/controls",
       "_model_module_version": "1.5.0",
       "_model_name": "ProgressStyleModel",
       "_view_count": null,
       "_view_module": "@jupyter-widgets/base",
       "_view_module_version": "1.2.0",
       "_view_name": "StyleView",
       "bar_color": null,
       "description_width": ""
      }
     }
    },
    "version_major": 2,
    "version_minor": 0
   }
  }
 },
 "nbformat": 4,
 "nbformat_minor": 5
}
